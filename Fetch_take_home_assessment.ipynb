{
  "nbformat": 4,
  "nbformat_minor": 0,
  "metadata": {
    "colab": {
      "provenance": []
    },
    "kernelspec": {
      "name": "python3",
      "display_name": "Python 3"
    },
    "language_info": {
      "name": "python"
    }
  },
  "cells": [
    {
      "cell_type": "code",
      "execution_count": 2,
      "metadata": {
        "colab": {
          "base_uri": "https://localhost:8080/"
        },
        "id": "NcMTI9Q2GViI",
        "outputId": "529aae63-2aad-42da-a281-175b77b01da5"
      },
      "outputs": [
        {
          "output_type": "stream",
          "name": "stdout",
          "text": [
            "The number of Missing Values in the USER_TAKEHOME file:\n",
            " ID                  0\n",
            "CREATED_DATE        0\n",
            "BIRTH_DATE       3675\n",
            "STATE            4812\n",
            "LANGUAGE        30508\n",
            "GENDER           5892\n",
            "dtype: int64\n",
            "\n",
            "The total length of the USER_TAKEHOME file:\n",
            " 100000\n",
            "\n",
            "The number of Missing Values in the TRANSACTION_TAKEHOME file:\n",
            " RECEIPT_ID           0\n",
            "PURCHASE_DATE        0\n",
            "SCAN_DATE            0\n",
            "STORE_NAME           0\n",
            "USER_ID              0\n",
            "BARCODE           5762\n",
            "FINAL_QUANTITY       0\n",
            "FINAL_SALE           0\n",
            "dtype: int64\n",
            "\n",
            "The total length of the TRANSACTION_TAKEHOME file:\n",
            " 50000\n",
            "\n",
            "The number of Missing Values in the PRODUCTS_TAKEHOME file:\n",
            " CATEGORY_1         111\n",
            "CATEGORY_2        1424\n",
            "CATEGORY_3       60566\n",
            "CATEGORY_4      778093\n",
            "MANUFACTURER    226474\n",
            "BRAND           226472\n",
            "BARCODE           4025\n",
            "dtype: int64\n",
            "\n",
            "The total length of the PRODUCTS_TAKEHOME file:\n",
            " 845552\n"
          ]
        }
      ],
      "source": [
        "import pandas as pd\n",
        "import numpy as np\n",
        "import sqlite3\n",
        "\n",
        "# Datasets:\n",
        "\n",
        "# USER_TAKEHOME.csv file:\n",
        "\n",
        "user_df = pd.read_csv('USER_TAKEHOME.csv')\n",
        "\n",
        "# TRANSACTION_TAKEHOME.csv file:\n",
        "\n",
        "transaction_df = pd.read_csv('TRANSACTION_TAKEHOME.csv')\n",
        "\n",
        "# PRODUCTS_TAKEHOME.csv file:\n",
        "\n",
        "products_df = pd.read_csv('PRODUCTS_TAKEHOME.csv')\n",
        "\n",
        "# Missing values:\n",
        "\n",
        "print(\"The number of Missing Values in the USER_TAKEHOME file:\\n\", user_df.isnull().sum())\n",
        "\n",
        "# Total length of the file:\n",
        "\n",
        "print(\"\\nThe total length of the USER_TAKEHOME file:\\n\", len(user_df))\n",
        "\n",
        "print(\"\\nThe number of Missing Values in the TRANSACTION_TAKEHOME file:\\n\", transaction_df.isnull().sum())\n",
        "\n",
        "# Total length of the file:\n",
        "\n",
        "print(\"\\nThe total length of the TRANSACTION_TAKEHOME file:\\n\", len(transaction_df))\n",
        "\n",
        "print(\"\\nThe number of Missing Values in the PRODUCTS_TAKEHOME file:\\n\", products_df.isnull().sum())\n",
        "\n",
        "# Total length of the file:\n",
        "\n",
        "print(\"\\nThe total length of the PRODUCTS_TAKEHOME file:\\n\", len(products_df))\n",
        "\n",
        "\n"
      ]
    },
    {
      "cell_type": "markdown",
      "source": [
        "# Observation:\n",
        "\n",
        "% of missing values in each column of the files:\n",
        "\n",
        "A. USER_TAKEHOME File:\n",
        "\n",
        "1. BIRTH_DATE: 3675/100000 * 100 = 3.675%\n",
        "2. STATE: 4812/100000 * 100 = 4.812%\n",
        "3. LANGUAGE: 30508/100000 * 100 = 30.508%\n",
        "4. GENDER: 5892/100000 * 100 = 5.892%\n",
        "\n",
        "B. TRANSACTION_TAKEHOME File:\n",
        "\n",
        "1. BARCODE: 5762/50000 * 100 = 11.524%\n",
        "\n",
        "C. PRODUCTS_TAKEHOME File:\n",
        "\n",
        "1. CATEGORY_1: 111/845552 * 100 = 0.013%\n",
        "2. CATEGORY_2: 1424/845552 * 100 = 0.168%\n",
        "3. CATEGORY_3: 60566/845552 * 100 = 7.71%\n",
        "4. CATEGORY_4: 778093/845552 * 100 = 92.04%\n",
        "5. MANUFACTURER: 226474/845552 * 100 = 26.78%\n",
        "6. BRAND: 226472/845552 * 100 = 26.79%\n",
        "7. BARCODE: 4025/845552 * 100 = 0.476%"
      ],
      "metadata": {
        "id": "s_DTEw8eBXYn"
      }
    },
    {
      "cell_type": "code",
      "source": [
        "# Unique values:\n",
        "\n",
        "# Unique values in the State Column:\n",
        "\n",
        "print(\"\\n The unique values in the State column:\", user_df['STATE'].unique())\n",
        "\n",
        "# Unique values in the Gender Column:\n",
        "\n",
        "print(\"\\n The Unique Values in the GENDER column:\", user_df['GENDER'].unique())\n",
        "\n",
        "# Unique values in the Language Column:\n",
        "\n",
        "print(\"\\n The Unique Values in the LANGUAGE column:\", user_df['LANGUAGE'].unique())\n"
      ],
      "metadata": {
        "colab": {
          "base_uri": "https://localhost:8080/"
        },
        "id": "XdH3kMdIfcK_",
        "outputId": "a9baba72-6db2-49d1-fa69-f9be2fe42940"
      },
      "execution_count": 3,
      "outputs": [
        {
          "output_type": "stream",
          "name": "stdout",
          "text": [
            "\n",
            " The unique values in the State column: ['CA' 'PA' 'FL' 'NC' 'NY' 'IN' nan 'OH' 'TX' 'NM' 'PR' 'CO' 'AZ' 'RI' 'MO'\n",
            " 'NJ' 'MA' 'TN' 'LA' 'NH' 'WI' 'IA' 'GA' 'VA' 'DC' 'KY' 'SC' 'MN' 'WV'\n",
            " 'DE' 'MI' 'IL' 'MS' 'WA' 'KS' 'CT' 'OR' 'UT' 'MD' 'OK' 'NE' 'NV' 'AL'\n",
            " 'AK' 'AR' 'HI' 'ME' 'ND' 'ID' 'WY' 'MT' 'SD' 'VT']\n",
            "\n",
            " The Unique Values in the GENDER column: ['female' nan 'male' 'non_binary' 'transgender' 'prefer_not_to_say'\n",
            " 'not_listed' 'Non-Binary' 'unknown' 'not_specified'\n",
            " \"My gender isn't listed\" 'Prefer not to say']\n",
            "\n",
            " The Unique Values in the LANGUAGE column: ['es-419' 'en' nan]\n"
          ]
        }
      ]
    },
    {
      "cell_type": "code",
      "source": [
        "# Non-numeric values in FINAL_QUANTITY and FINAL_SALE:\n",
        "\n",
        "non_numeric_quantity = transaction_df[~transaction_df['FINAL_QUANTITY'].str.replace('.', '', 1).str.isnumeric()]\n",
        "\n",
        "print(\"\\n The Non-Numeric Values in the FINAL_QUANTITY column:\\n\", non_numeric_quantity[['FINAL_QUANTITY']].head())\n",
        "\n",
        "# Finding values other than numeric in Final sale column:\n",
        "\n",
        "non_numeric_sale = transaction_df[~transaction_df['FINAL_SALE'].str.replace('.', '', 1).str.isnumeric()]\n",
        "\n",
        "print(\"\\n The Non-Numeric Values in the FINAL_SALE column:\\n\", non_numeric_sale[['FINAL_SALE']].head())\n"
      ],
      "metadata": {
        "colab": {
          "base_uri": "https://localhost:8080/"
        },
        "id": "jIUfCmqcfdq4",
        "outputId": "46b37c30-1645-4f6a-8210-773f70cc9f73"
      },
      "execution_count": 4,
      "outputs": [
        {
          "output_type": "stream",
          "name": "stdout",
          "text": [
            "\n",
            " The Non-Numeric Values in the FINAL_QUANTITY column:\n",
            "   FINAL_QUANTITY\n",
            "1           zero\n",
            "3           zero\n",
            "5           zero\n",
            "7           zero\n",
            "9           zero\n",
            "\n",
            " The Non-Numeric Values in the FINAL_SALE column:\n",
            "   FINAL_SALE\n",
            "0           \n",
            "2           \n",
            "4           \n",
            "6           \n",
            "8           \n"
          ]
        }
      ]
    },
    {
      "cell_type": "markdown",
      "source": [
        "# Observation:\n",
        "\n",
        "It can be seen that the FINAL_QUANTITY column has the value zero in it along with others. Similarly, FINAL_SALE column has blank values."
      ],
      "metadata": {
        "id": "Z1-hdbaR_5za"
      }
    },
    {
      "cell_type": "code",
      "source": [
        "# Ambiguous fields in PRODUCTS_TAKEHOME:\n",
        "\n",
        "am1 = products_df['CATEGORY_1'].unique()\n",
        "\n",
        "am2 = products_df['CATEGORY_2'].unique()\n",
        "\n",
        "am3 = products_df['CATEGORY_3'].unique()\n",
        "\n",
        "print(\"\\nThe Unique Values in CATEGORY_4:\", am1[:10])\n",
        "\n",
        "print(\"\\nUnique Values in MANUFACTURER:\", am2[:10])\n",
        "\n",
        "print(\"\\nUnique Values in BRAND:\", am3[:10])"
      ],
      "metadata": {
        "colab": {
          "base_uri": "https://localhost:8080/"
        },
        "id": "vIrSj__bfhJw",
        "outputId": "04432d82-05c5-487d-96a8-731e140790ab"
      },
      "execution_count": 5,
      "outputs": [
        {
          "output_type": "stream",
          "name": "stdout",
          "text": [
            "\n",
            "The Unique Values in CATEGORY_4: ['Health & Wellness' 'Snacks' 'Beverages' 'Pantry' 'Alcohol'\n",
            " 'Apparel & Accessories' 'Restaurant' 'Needs Review' 'Dairy'\n",
            " 'Home & Garden']\n",
            "\n",
            "Unique Values in MANUFACTURER: ['Sexual Health' 'Puffed Snacks' 'Hair Care' 'Oral Care'\n",
            " 'Medicines & Treatments' 'Deodorant & Antiperspirant' 'Snack Bars' nan\n",
            " 'Bath & Body' 'Nuts & Seeds']\n",
            "\n",
            "Unique Values in BRAND: ['Conductivity Gels & Lotions' 'Cheese Curls & Puffs'\n",
            " 'Hair Care Accessories' 'Toothpaste' 'Essential Oils'\n",
            " 'Vitamins & Herbal Supplements' \"Men's Deodorant & Antiperspirant\"\n",
            " 'Granola Bars' nan 'Skin Treatments']\n"
          ]
        }
      ]
    },
    {
      "cell_type": "markdown",
      "source": [
        "# Conclusion:\n",
        "\n",
        "A. Missing Data Issues:\n",
        "\n",
        "USER_TAKEHOME:\n",
        "\n",
        "1. The BIRTH_DATE column contains 3,675 missing values primarily because of incomplete user profiles. STATE column has 4,812 missing values due to data collection gaps.\n",
        "\n",
        "2. LANGUAGE column has the most missing values, 30,508 missing values. This issue can impact personalized services for customers of various languages.\n",
        "\n",
        "3. GENDER contains 5,892 missing values. This suggests that there is data inconsistency in demographic attributes.\n",
        "\n",
        "TRANSACTION_TAKEHOME:\n",
        "\n",
        "1. The BARCODE column in this file has 5,762 missing values. This indicates that some of the transactions may not have details in the product-level.\n",
        "\n",
        "PRODUCTS_TAKEHOME:\n",
        "\n",
        "1. CATEGORY_1: There are 111 missing values in CATEGORY_1 column. It is not so big of an issue but there should be steps taken to remove these missing values.\n",
        "\n",
        "2. CATEGORY_2 has 1,424 missing values. This may be possible as there is incomplete categorization.\n",
        "\n",
        "3. There are 60,566 missing values in CATEGORY_3. This column has plenty of missing subcategories.\n",
        "\n",
        "4. There are 92.04% missing values in CATEGORY_4. This field is mostly not used.\n",
        "\n",
        "5. MANUFACTURER column has 226,474 missing values. Product metadata has potential problems here.\n",
        "\n",
        "6. BRAND has 226,472 missing values. The majority of products have unclear affiliations of brands.\n",
        "\n",
        "7. BARCODE has 4,025 missing values. This possibly can affect tracking of products and their analysis.\n",
        "\n",
        "➡ Observation:\n",
        "\n",
        "The large number of missing values in CATEGORY_3, CATEGORY_4, MANUFACTURER, and BRAND columns suggest that the product dataset might not have been properly maintained.\n",
        "For accurate sales, it is necessary to fill in the missing values for the BARCODE column.\n",
        "\n",
        "B. Inconsistent or Ambiguous Data\n",
        "\n",
        "1. GENDER values in USER_TAKEHOME:\n",
        "\n",
        "There is inconsistent formatting of the data in the GENDER column of USER_TAKEHOME file. Also, there are multiple variations of the word \"unknown\" like for instance \"unknown\", \"not_specified\", \"Prefer not to say\", and \"My gender isn't listed\". The options should be standardized\n",
        "\n",
        "2. LANGUAGE values in USER_TAKEHOME:\n",
        "\n",
        "The LANGUAGE column in the USER_TAKEHOME table consists of 2 values - \"en\" and \"es-419\". Furthermore, there are nearly 30% missing values. Latin American Spanish is defined by regional code es-419, it may not be that easily comprehensible for most of the people.\n",
        "\n",
        "\n",
        "➡ Observation:\n",
        "\n",
        "It can easily be observed that:\n",
        "\n",
        "Gender classifications need standardization. There is limited language data, which hinders its applicability to segmentation."
      ],
      "metadata": {
        "id": "uvVLI-goH-sF"
      }
    },
    {
      "cell_type": "markdown",
      "source": [
        "#SQL Queries:"
      ],
      "metadata": {
        "id": "BdaZDmrpPQVa"
      }
    },
    {
      "cell_type": "markdown",
      "source": [
        "# Question 1:\n",
        "\n",
        "What are the top 5 brands by receipts scanned among users 21 and over?"
      ],
      "metadata": {
        "id": "0yZv44MZDFxm"
      }
    },
    {
      "cell_type": "code",
      "source": [
        "query = \"\"\"\n",
        "SELECT COALESCE(p.BRAND, 'Unknown Brand') AS BRAND, COUNT(t.RECEIPT_ID) AS total_rec\n",
        "FROM TRANSACTION_TAKEHOME t JOIN USER_TAKEHOME u\n",
        "ON t.USER_ID = u.ID\n",
        "JOIN PRODUCTS_TAKEHOME p ON p.BARCODE = t.BARCODE\n",
        "WHERE CAST(strftime('%Y', 'now') AS INT) - CAST(strftime('%Y', u.BIRTH_DATE) AS INT) >= 21 -- Age should be greater than 21 here\n",
        "GROUP BY p.BRAND\n",
        "ORDER BY total_rec DESC\n",
        "LIMIT 5;\n",
        "\"\"\"\n",
        "\n",
        "# In-memory SQLite connection:\n",
        "\n",
        "conn = sqlite3.connect(':memory:')\n",
        "\n",
        "# Loading these dataframes as tables:\n",
        "\n",
        "user_df.to_sql('USER_TAKEHOME', conn, if_exists='replace', index=False)\n",
        "transaction_df.to_sql('TRANSACTION_TAKEHOME', conn, if_exists='replace', index=False)\n",
        "products_df.to_sql('PRODUCTS_TAKEHOME', conn, if_exists='replace', index=False)\n",
        "\n",
        "# Query Execution:\n",
        "\n",
        "top_5_brands = pd.read_sql_query(query, conn)\n",
        "print(top_5_brands)\n",
        "\n",
        "# Closing the connection after execution:\n",
        "\n",
        "conn.close()\n"
      ],
      "metadata": {
        "colab": {
          "base_uri": "https://localhost:8080/"
        },
        "id": "sfrHQFIDG23f",
        "outputId": "451cb620-e89e-491b-8ccc-4d908d2eaa80"
      },
      "execution_count": null,
      "outputs": [
        {
          "output_type": "stream",
          "name": "stdout",
          "text": [
            "             BRAND  total_rec\n",
            "0      NERDS CANDY          6\n",
            "1             DOVE          6\n",
            "2    Unknown Brand          6\n",
            "3          TRIDENT          4\n",
            "4  SOUR PATCH KIDS          4\n"
          ]
        }
      ]
    },
    {
      "cell_type": "markdown",
      "source": [
        "#Observation:\n",
        "\n",
        "The top 5 brands by receipts scanned among users 21 and over are:\n",
        "\n",
        "1. Nerds Candy\n",
        "2. Dove\n",
        "3. Unknown Brand\n",
        "4. Trident\n",
        "5. Sour Patch Kids"
      ],
      "metadata": {
        "id": "UJl78HwJ5foj"
      }
    },
    {
      "cell_type": "markdown",
      "source": [
        "# Question 2:\n",
        "\n",
        "Which is the leading brand in the Dips & Salsa category?"
      ],
      "metadata": {
        "id": "P0F7eBGLDNwf"
      }
    },
    {
      "cell_type": "code",
      "source": [
        "\n",
        "# Define the SQL query\n",
        "\n",
        "query = \"\"\"\n",
        "SELECT COALESCE(p.BRAND, 'Unknown Brand') AS BRAND,\n",
        "    COUNT(t.RECEIPT_ID) AS total_sales\n",
        "FROM TRANSACTION_TAKEHOME t\n",
        "JOIN PRODUCTS_TAKEHOME p ON t.BARCODE = p.BARCODE\n",
        "WHERE\n",
        "    LOWER(p.CATEGORY_3) LIKE '%dip%'\n",
        "    OR LOWER(p.CATEGORY_3) LIKE '%salsa%'\n",
        "GROUP BY p.BRAND\n",
        "ORDER BY total_sales DESC\n",
        "LIMIT 1;\n",
        "\"\"\"\n",
        "\n",
        "# In-memory SQLite connection:\n",
        "\n",
        "conn = sqlite3.connect(':memory:')\n",
        "\n",
        "# Loading these dataframes as tables:\n",
        "\n",
        "user_df.to_sql('USER_TAKEHOME', conn, if_exists='replace', index=False)\n",
        "transaction_df.to_sql('TRANSACTION_TAKEHOME', conn, if_exists='replace', index=False)\n",
        "products_df.to_sql('PRODUCTS_TAKEHOME', conn, if_exists='replace', index=False)\n",
        "\n",
        "# Query Execution:\n",
        "\n",
        "top_dips_salsa = pd.read_sql_query(query, conn)\n",
        "print(top_dips_salsa)\n",
        "\n",
        "# Closing the connection after execution:\n",
        "\n",
        "conn.close()\n"
      ],
      "metadata": {
        "colab": {
          "base_uri": "https://localhost:8080/"
        },
        "id": "ZnaburBmQJf3",
        "outputId": "aaeab833-c906-4c30-881e-2b38d5e2014f"
      },
      "execution_count": null,
      "outputs": [
        {
          "output_type": "stream",
          "name": "stdout",
          "text": [
            "      BRAND  total_sales\n",
            "0  TOSTITOS           72\n"
          ]
        }
      ]
    },
    {
      "cell_type": "markdown",
      "source": [
        "# Observation:\n",
        "\n",
        "The leading brand in the Dips & Salsa category is Tostitos."
      ],
      "metadata": {
        "id": "TnOPKgL26H6q"
      }
    },
    {
      "cell_type": "markdown",
      "source": [
        "# Question 3:\n",
        "\n",
        "What are the top 5 brands by sales among users that have had their account for at least six months?"
      ],
      "metadata": {
        "id": "nMAkyC8oDYlj"
      }
    },
    {
      "cell_type": "code",
      "source": [
        "query = \"\"\"\n",
        "SELECT COALESCE(p.BRAND, 'Unknown Brand') AS BRAND, SUM(t.FINAL_SALE) AS sales_total\n",
        "FROM TRANSACTION_TAKEHOME t\n",
        "JOIN USER_TAKEHOME u ON t.USER_ID = u.ID\n",
        "JOIN PRODUCTS_TAKEHOME p ON t.BARCODE = p.BARCODE\n",
        "WHERE u.CREATED_DATE <= date('now', '-6 months')\n",
        "GROUP BY BRAND\n",
        "ORDER BY sales_total DESC\n",
        "LIMIT 5;\n",
        "\"\"\"\n",
        "\n",
        "# In-memory SQLite connection:\n",
        "\n",
        "conn = sqlite3.connect(':memory:')\n",
        "\n",
        "# Loading these dataframes as tables:\n",
        "\n",
        "user_df.to_sql('USER_TAKEHOME', conn, if_exists='replace', index=False)\n",
        "transaction_df.to_sql('TRANSACTION_TAKEHOME', conn, if_exists='replace', index=False)\n",
        "products_df.to_sql('PRODUCTS_TAKEHOME', conn, if_exists='replace', index=False)\n",
        "\n",
        "# Query Execution:\n",
        "\n",
        "top_5_sales = pd.read_sql_query(query, conn)\n",
        "print(top_5_sales)\n",
        "\n",
        "# Closing the connection after execution:\n",
        "\n",
        "conn.close()"
      ],
      "metadata": {
        "colab": {
          "base_uri": "https://localhost:8080/"
        },
        "id": "7Lp6MAPgXHkT",
        "outputId": "a6f8f878-6663-4478-9806-d3495e255f4c"
      },
      "execution_count": null,
      "outputs": [
        {
          "output_type": "stream",
          "name": "stdout",
          "text": [
            "           BRAND  sales_total\n",
            "0            CVS        72.00\n",
            "1        TRIDENT        46.72\n",
            "2           DOVE        42.88\n",
            "3    COORS LIGHT        34.96\n",
            "4  Unknown Brand        16.65\n"
          ]
        }
      ]
    },
    {
      "cell_type": "markdown",
      "source": [
        "#Observation:\n",
        "\n",
        "The top 5 brands by sales among users that have had their account for at least six months:\n",
        "\n",
        "1. CVS\n",
        "2. Trident\n",
        "3. Dove\n",
        "4. Coors Light\n",
        "5. None"
      ],
      "metadata": {
        "id": "scOOkFU67CBZ"
      }
    },
    {
      "cell_type": "markdown",
      "source": [
        "# Slack Message:\n",
        "\n",
        "Hello Stakeholder,\n",
        "\n",
        "I hope you're doing well. I've been working with our data and thought I'd outline some of the most important observations, along with some questions that would need further clarification.\n",
        "\n",
        "Significant Data Quality Issues are as follows:\n",
        "\n",
        "A. Missing Values:\n",
        "\n",
        "- BIRTH_DATE has 3.675% missing values, STATE has around 4.8% missing values, LANGUAGE column (30.508% missing), and GENDER column has 5.892% missing values in user data.\n",
        "\n",
        "- BARCODE has 11.524% missing values for transactions dataset. It may affect our power to compare products.\n",
        "\n",
        "- MANUFACTURER and BRAND columns have approximately 27% missing values in the products dataset. It hinders the analysis at brand level.\n",
        "\n",
        "- CATEGORY_4 has highest % missing values and proper measures should be taken on it on a high priority.\n",
        "\n",
        "Data Consistency Concerns:\n",
        "\n",
        "- FINAL_QUANTITY column in the transaction dataset contains the text \"zero\" instead of 0.0, which needs to be cleaned. FINAL_SALE column contains blank rows so it is not known if those sales were of zero cost or were mistakenly recorded.\n",
        "\n",
        "Interesting Trend Identified:\n",
        "\n",
        "- Top Brand in Dips & Salsa Category: Tostitos with 72 transactions being made, which points towards a dominant market share. Maybe it would be helpful to study what drives its success (price, promotions, or brand loyalty).\n",
        "\n",
        "Outstanding Questions & Next Steps:\n",
        "\n",
        "- Can we please get some clarification on how missing BARCODE values are generated? Are they caused by scanning errors or missing product data?\n",
        "- Should \"zero\" in FINAL_QUANTITY be interpreted as 0 or Nan ? Does this indicate an issue in the data gathering process?\n",
        "- Would you rather have more granularity on user purchase behavior by state, language, or gender (even with the missing values)?\n",
        "- Would love to discuss these points with you and align on the next steps. Kindly let me know if you’d like to schedule a quick sync.\n",
        "\n",
        "Thank you,\n",
        "Renuka"
      ],
      "metadata": {
        "id": "R8Vxj-4m-H5k"
      }
    }
  ]
}